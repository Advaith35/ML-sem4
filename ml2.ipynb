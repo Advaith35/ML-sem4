{
 "cells": [
  {
   "cell_type": "code",
   "execution_count": 2,
   "id": "f802df0b",
   "metadata": {},
   "outputs": [],
   "source": [
    "import pandas as pd\n",
    "\n",
    "data = pd.read_csv(\"C:/Users/CSE-Lab1/Documents/aia/Melbourne_housing_FULL.csv\")\n"
   ]
  },
  {
   "cell_type": "code",
   "execution_count": 4,
   "id": "f9b9c166",
   "metadata": {},
   "outputs": [
    {
     "name": "stdout",
     "output_type": "stream",
     "text": [
      "<class 'pandas.core.frame.DataFrame'>\n",
      "RangeIndex: 34857 entries, 0 to 34856\n",
      "Data columns (total 21 columns):\n",
      " #   Column         Non-Null Count  Dtype  \n",
      "---  ------         --------------  -----  \n",
      " 0   Suburb         34857 non-null  object \n",
      " 1   Address        34857 non-null  object \n",
      " 2   Rooms          34857 non-null  int64  \n",
      " 3   Type           34857 non-null  object \n",
      " 4   Price          27247 non-null  float64\n",
      " 5   Method         34857 non-null  object \n",
      " 6   SellerG        34857 non-null  object \n",
      " 7   Date           34857 non-null  object \n",
      " 8   Distance       34856 non-null  float64\n",
      " 9   Postcode       34856 non-null  float64\n",
      " 10  Bedroom2       26640 non-null  float64\n",
      " 11  Bathroom       26631 non-null  float64\n",
      " 12  Car            26129 non-null  float64\n",
      " 13  Landsize       23047 non-null  float64\n",
      " 14  BuildingArea   13742 non-null  float64\n",
      " 15  YearBuilt      15551 non-null  float64\n",
      " 16  CouncilArea    34854 non-null  object \n",
      " 17  Lattitude      26881 non-null  float64\n",
      " 18  Longtitude     26881 non-null  float64\n",
      " 19  Regionname     34854 non-null  object \n",
      " 20  Propertycount  34854 non-null  float64\n",
      "dtypes: float64(12), int64(1), object(8)\n",
      "memory usage: 5.6+ MB\n",
      "None\n"
     ]
    }
   ],
   "source": [
    "print(data.info())\n"
   ]
  },
  {
   "cell_type": "code",
   "execution_count": 5,
   "id": "7e54e2ae",
   "metadata": {},
   "outputs": [
    {
     "name": "stdout",
     "output_type": "stream",
     "text": [
      "              Rooms         Price      Distance      Postcode      Bedroom2  \\\n",
      "count  34857.000000  2.724700e+04  34856.000000  34856.000000  26640.000000   \n",
      "mean       3.031012  1.050173e+06     11.184929   3116.062859      3.084647   \n",
      "std        0.969933  6.414671e+05      6.788892    109.023903      0.980690   \n",
      "min        1.000000  8.500000e+04      0.000000   3000.000000      0.000000   \n",
      "25%        2.000000  6.350000e+05      6.400000   3051.000000      2.000000   \n",
      "50%        3.000000  8.700000e+05     10.300000   3103.000000      3.000000   \n",
      "75%        4.000000  1.295000e+06     14.000000   3156.000000      4.000000   \n",
      "max       16.000000  1.120000e+07     48.100000   3978.000000     30.000000   \n",
      "\n",
      "           Bathroom           Car       Landsize  BuildingArea     YearBuilt  \\\n",
      "count  26631.000000  26129.000000   23047.000000   13742.00000  15551.000000   \n",
      "mean       1.624798      1.728845     593.598993     160.25640   1965.289885   \n",
      "std        0.724212      1.010771    3398.841946     401.26706     37.328178   \n",
      "min        0.000000      0.000000       0.000000       0.00000   1196.000000   \n",
      "25%        1.000000      1.000000     224.000000     102.00000   1940.000000   \n",
      "50%        2.000000      2.000000     521.000000     136.00000   1970.000000   \n",
      "75%        2.000000      2.000000     670.000000     188.00000   2000.000000   \n",
      "max       12.000000     26.000000  433014.000000   44515.00000   2106.000000   \n",
      "\n",
      "          Lattitude    Longtitude  Propertycount  \n",
      "count  26881.000000  26881.000000   34854.000000  \n",
      "mean     -37.810634    145.001851    7572.888306  \n",
      "std        0.090279      0.120169    4428.090313  \n",
      "min      -38.190430    144.423790      83.000000  \n",
      "25%      -37.862950    144.933500    4385.000000  \n",
      "50%      -37.807600    145.007800    6763.000000  \n",
      "75%      -37.754100    145.071900   10412.000000  \n",
      "max      -37.390200    145.526350   21650.000000  \n"
     ]
    }
   ],
   "source": [
    "print(data.describe())"
   ]
  },
  {
   "cell_type": "code",
   "execution_count": 20,
   "id": "2720cc7a",
   "metadata": {},
   "outputs": [
    {
     "name": "stdout",
     "output_type": "stream",
     "text": [
      "Type\n",
      "h    1.203718e+06\n",
      "t    9.310772e+05\n",
      "u    6.279434e+05\n",
      "Name: Price, dtype: float64\n"
     ]
    }
   ],
   "source": [
    "mean_price_by_type = data.groupby('Type')['Price'].mean()\n",
    "print(mean_price_by_type)"
   ]
  },
  {
   "cell_type": "code",
   "execution_count": 21,
   "id": "925e72bb",
   "metadata": {},
   "outputs": [],
   "source": [
    "dat=data.dropna()"
   ]
  },
  {
   "cell_type": "code",
   "execution_count": 22,
   "id": "771f99d2",
   "metadata": {},
   "outputs": [
    {
     "name": "stdout",
     "output_type": "stream",
     "text": [
      "             Rooms         Price     Distance     Postcode     Bedroom2  \\\n",
      "count  8887.000000  8.887000e+03  8887.000000  8887.000000  8887.000000   \n",
      "mean      3.098909  1.092902e+06    11.199887  3111.662653     3.078204   \n",
      "std       0.963786  6.793819e+05     6.813402   112.614268     0.966269   \n",
      "min       1.000000  1.310000e+05     0.000000  3000.000000     0.000000   \n",
      "25%       2.000000  6.410000e+05     6.400000  3044.000000     2.000000   \n",
      "50%       3.000000  9.000000e+05    10.200000  3084.000000     3.000000   \n",
      "75%       4.000000  1.345000e+06    13.900000  3150.000000     4.000000   \n",
      "max      12.000000  9.000000e+06    47.400000  3977.000000    12.000000   \n",
      "\n",
      "          Bathroom          Car      Landsize  BuildingArea    YearBuilt  \\\n",
      "count  8887.000000  8887.000000   8887.000000   8887.000000  8887.000000   \n",
      "mean      1.646450     1.692247    523.480365    149.309477  1965.753348   \n",
      "std       0.721611     0.975464   1061.324228     87.925580    37.040876   \n",
      "min       1.000000     0.000000      0.000000      0.000000  1196.000000   \n",
      "25%       1.000000     1.000000    212.000000    100.000000  1945.000000   \n",
      "50%       2.000000     2.000000    478.000000    132.000000  1970.000000   \n",
      "75%       2.000000     2.000000    652.000000    180.000000  2000.000000   \n",
      "max       9.000000    10.000000  42800.000000   3112.000000  2019.000000   \n",
      "\n",
      "         Lattitude   Longtitude  Propertycount  \n",
      "count  8887.000000  8887.000000    8887.000000  \n",
      "mean    -37.804501   144.991393    7475.940137  \n",
      "std       0.090549     0.118919    4375.024364  \n",
      "min     -38.174360   144.423790     249.000000  \n",
      "25%     -37.858560   144.920000    4382.500000  \n",
      "50%     -37.798700   144.998500    6567.000000  \n",
      "75%     -37.748945   145.064560   10331.000000  \n",
      "max     -37.407200   145.526350   21650.000000  \n"
     ]
    }
   ],
   "source": [
    "print(dat.describe())"
   ]
  },
  {
   "cell_type": "code",
   "execution_count": 23,
   "id": "ce0bcc45",
   "metadata": {},
   "outputs": [],
   "source": [
    "dat1=data.ffill()"
   ]
  },
  {
   "cell_type": "code",
   "execution_count": 24,
   "id": "42e2dd4d",
   "metadata": {},
   "outputs": [],
   "source": [
    "dat1.to_csv('data.csv',index='False')"
   ]
  },
  {
   "cell_type": "code",
   "execution_count": null,
   "id": "66e86387",
   "metadata": {},
   "outputs": [],
   "source": []
  }
 ],
 "metadata": {
  "kernelspec": {
   "display_name": "Python 3 (ipykernel)",
   "language": "python",
   "name": "python3"
  },
  "language_info": {
   "codemirror_mode": {
    "name": "ipython",
    "version": 3
   },
   "file_extension": ".py",
   "mimetype": "text/x-python",
   "name": "python",
   "nbconvert_exporter": "python",
   "pygments_lexer": "ipython3",
   "version": "3.11.5"
  }
 },
 "nbformat": 4,
 "nbformat_minor": 5
}
